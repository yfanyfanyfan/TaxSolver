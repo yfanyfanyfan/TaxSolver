{
 "cells": [
  {
   "cell_type": "code",
   "execution_count": 1,
   "metadata": {},
   "outputs": [],
   "source": [
    "import os\n",
    "os.environ[\"GRB_LICENSE_FILE\"] = \"/Users/yfd/gurobi.lic\""
   ]
  },
  {
   "cell_type": "code",
   "execution_count": 2,
   "metadata": {},
   "outputs": [
    {
     "name": "stdout",
     "output_type": "stream",
     "text": [
      "Requirement already satisfied: gurobipy in /Users/yfd/miniconda3/lib/python3.12/site-packages (12.0.1)\n",
      "Note: you may need to restart the kernel to use updated packages.\n"
     ]
    }
   ],
   "source": [
    "pip install gurobipy"
   ]
  },
  {
   "cell_type": "code",
   "execution_count": 3,
   "metadata": {
    "id": "3zFGkokYnMfX"
   },
   "outputs": [],
   "source": [
    "import gurobipy\n",
    "import pyomo.environ as pyo\n",
    "import gurobipy as gp\n",
    "from gurobipy import GRB\n",
    "import pandas as pd\n",
    "import numpy as np\n",
    "import os"
   ]
  },
  {
   "cell_type": "code",
   "execution_count": 4,
   "metadata": {
    "colab": {
     "base_uri": "https://localhost:8080/"
    },
    "id": "UpuiiG-WkTUy",
    "outputId": "1538fe88-7325-44dd-8694-e1509d118528"
   },
   "outputs": [],
   "source": [
    "# Assume your Excel file is already saved locally\n",
    "data_file = 'simple_simul_100k.xlsx'\n",
    "\n",
    "# Make sure the file exists\n",
    "if not os.path.isfile(data_file):\n",
    "    raise FileNotFoundError(f\"Cannot find {data_file}, please check the file path.\")\n",
    "\n",
    "# Load the Excel file (example)\n",
    "data = pd.read_excel(data_file)"
   ]
  },
  {
   "cell_type": "code",
   "execution_count": 5,
   "metadata": {
    "colab": {
     "base_uri": "https://localhost:8080/"
    },
    "id": "smykjznDAZwU",
    "outputId": "b531f9b2-d945-480f-d72d-95c1e256b22c"
   },
   "outputs": [
    {
     "data": {
      "text/plain": [
       "Index(['Unnamed: 0', 'income_before_tax', 'tax_group', 'household_size',\n",
       "       'outcome_1', 'outcome_2', 'outcome_3'],\n",
       "      dtype='object')"
      ]
     },
     "execution_count": 5,
     "metadata": {},
     "output_type": "execute_result"
    }
   ],
   "source": [
    "data.keys()"
   ]
  },
  {
   "cell_type": "code",
   "execution_count": 6,
   "metadata": {
    "id": "6ltoRgGlpekU"
   },
   "outputs": [],
   "source": [
    "data= pd.DataFrame(data)"
   ]
  },
  {
   "cell_type": "code",
   "execution_count": 7,
   "metadata": {
    "id": "6t_-QW_LnKEV"
   },
   "outputs": [],
   "source": [
    "default_params = {\n",
    "    \"tax_brackets\": {\n",
    "        \"all\": [\n",
    "            {\"income_up_to\": 24812, \"rate\": 0.3},\n",
    "            {\"income_up_to\": 38098, \"rate\": 0.4},\n",
    "            {\"income_up_to\": 75518, \"rate\": 0.5},\n",
    "            {\"income_up_to\": float(\"inf\"), \"rate\": 0.6},],\n",
    "        \"1\": [\n",
    "            {\"income_up_to\": 24812, \"rate\": 0.2},\n",
    "            {\"income_up_to\": 38098, \"rate\": 0.4},\n",
    "            {\"income_up_to\": 75518, \"rate\": 0.4},\n",
    "            {\"income_up_to\": float(\"inf\"), \"rate\": 0.6},],\n",
    "        \"2\": [\n",
    "            {\"income_up_to\": 24812, \"rate\": 0.3},\n",
    "            {\"income_up_to\": 38098, \"rate\": 0.3},\n",
    "            {\"income_up_to\": 75518, \"rate\": 0.3},\n",
    "            {\"income_up_to\": float(\"inf\"), \"rate\": 0.5},],\n",
    "        \"3\": [\n",
    "            {\"income_up_to\": 24812, \"rate\": 0.1},\n",
    "            {\"income_up_to\": 38098, \"rate\": 0.1},\n",
    "            {\"income_up_to\": 75518, \"rate\": 0.1},\n",
    "            {\"income_up_to\": float(\"inf\"), \"rate\": 0.8},],\n",
    "        \"4\": [\n",
    "            {\"income_up_to\": 24812, \"rate\": 0.3},\n",
    "            {\"income_up_to\": 38098, \"rate\": 0.4},\n",
    "            {\"income_up_to\": 75518, \"rate\": 0.1},\n",
    "            {\"income_up_to\": float(\"inf\"), \"rate\": 0.2},],\n",
    "        \"alt_1\": [\n",
    "            {\"income_up_to\": 20_000, \"rate\": 0.3},\n",
    "            {\"income_up_to\": 50_000, \"rate\": 0.4},\n",
    "            {\"income_up_to\": 100_000, \"rate\": 0.5},\n",
    "            {\"income_up_to\": float(\"inf\"), \"rate\": 0.6},],\n",
    "        \"alt_2\": [\n",
    "            {\"income_up_to\": 24812, \"rate\": 0.3},\n",
    "            {\"income_up_to\": 38098, \"rate\": 0.4},\n",
    "            {\"income_up_to\": 75518, \"rate\": 0.5},\n",
    "            {\"income_up_to\": float(\"inf\"), \"rate\": 0.6},],}\n",
    "}\n"
   ]
  },
  {
   "cell_type": "code",
   "execution_count": 8,
   "metadata": {
    "colab": {
     "base_uri": "https://localhost:8080/"
    },
    "id": "ezZPPBlhnRiw",
    "outputId": "5ff5acc9-6b84-4c7f-9b18-9d965f31d5d2"
   },
   "outputs": [
    {
     "name": "stdout",
     "output_type": "stream",
     "text": [
      "Index(['all', '1', '2', '3', '4', 'alt_1', 'alt_2'], dtype='object')\n"
     ]
    }
   ],
   "source": [
    "tax_brackets = pd.DataFrame(default_params['tax_brackets'])\n",
    "print(tax_brackets.columns)"
   ]
  },
  {
   "cell_type": "code",
   "execution_count": 9,
   "metadata": {
    "colab": {
     "base_uri": "https://localhost:8080/"
    },
    "id": "nernGjzw5GUS",
    "outputId": "aa4117fa-0073-430b-ff33-023f572fe5d1"
   },
   "outputs": [
    {
     "data": {
      "text/plain": [
       "[0, 24812, 38098, 75518, inf]"
      ]
     },
     "execution_count": 9,
     "metadata": {},
     "output_type": "execute_result"
    }
   ],
   "source": [
    "cutoffs= [0,default_params['tax_brackets']['1'][0]['income_up_to'], default_params['tax_brackets']['1'][1]['income_up_to'], default_params['tax_brackets']['1'][2]['income_up_to'],default_params['tax_brackets']['1'][3]['income_up_to']]\n",
    "cutoffs"
   ]
  },
  {
   "cell_type": "code",
   "execution_count": 9,
   "metadata": {
    "id": "VGz3temR7A82"
   },
   "outputs": [],
   "source": [
    "rate_group1 = [default_params['tax_brackets']['1'][0]['rate'], default_params['tax_brackets']['1'][1]['rate'], default_params['tax_brackets']['1'][2]['rate'], default_params['tax_brackets']['1'][3]['rate']]\n",
    "rate_group2 = [default_params['tax_brackets']['2'][0]['rate'], default_params['tax_brackets']['2'][1]['rate'], default_params['tax_brackets']['2'][2]['rate'], default_params['tax_brackets']['2'][3]['rate']]\n",
    "rate_group3 = [default_params['tax_brackets']['3'][0]['rate'], default_params['tax_brackets']['3'][1]['rate'], default_params['tax_brackets']['3'][2]['rate'], default_params['tax_brackets']['3'][3]['rate']]\n",
    "rate_group4 = [default_params['tax_brackets']['4'][0]['rate'], default_params['tax_brackets']['4'][1]['rate'], default_params['tax_brackets']['4'][2]['rate'], default_params['tax_brackets']['4'][3]['rate']]"
   ]
  },
  {
   "cell_type": "code",
   "execution_count": 10,
   "metadata": {
    "colab": {
     "base_uri": "https://localhost:8080/",
     "height": 174
    },
    "id": "EpTwp21C7uik",
    "outputId": "30e2e40e-b052-49ff-e698-93627b558203"
   },
   "outputs": [
    {
     "data": {
      "text/html": [
       "<div>\n",
       "<style scoped>\n",
       "    .dataframe tbody tr th:only-of-type {\n",
       "        vertical-align: middle;\n",
       "    }\n",
       "\n",
       "    .dataframe tbody tr th {\n",
       "        vertical-align: top;\n",
       "    }\n",
       "\n",
       "    .dataframe thead th {\n",
       "        text-align: right;\n",
       "    }\n",
       "</style>\n",
       "<table border=\"1\" class=\"dataframe\">\n",
       "  <thead>\n",
       "    <tr style=\"text-align: right;\">\n",
       "      <th></th>\n",
       "      <th>group_1</th>\n",
       "      <th>group_2</th>\n",
       "      <th>group_3</th>\n",
       "      <th>group_4</th>\n",
       "    </tr>\n",
       "  </thead>\n",
       "  <tbody>\n",
       "    <tr>\n",
       "      <th>1</th>\n",
       "      <td>0.2</td>\n",
       "      <td>0.4</td>\n",
       "      <td>0.4</td>\n",
       "      <td>0.6</td>\n",
       "    </tr>\n",
       "    <tr>\n",
       "      <th>2</th>\n",
       "      <td>0.3</td>\n",
       "      <td>0.3</td>\n",
       "      <td>0.3</td>\n",
       "      <td>0.5</td>\n",
       "    </tr>\n",
       "    <tr>\n",
       "      <th>3</th>\n",
       "      <td>0.1</td>\n",
       "      <td>0.1</td>\n",
       "      <td>0.1</td>\n",
       "      <td>0.8</td>\n",
       "    </tr>\n",
       "    <tr>\n",
       "      <th>4</th>\n",
       "      <td>0.3</td>\n",
       "      <td>0.4</td>\n",
       "      <td>0.1</td>\n",
       "      <td>0.2</td>\n",
       "    </tr>\n",
       "  </tbody>\n",
       "</table>\n",
       "</div>"
      ],
      "text/plain": [
       "   group_1  group_2  group_3  group_4\n",
       "1      0.2      0.4      0.4      0.6\n",
       "2      0.3      0.3      0.3      0.5\n",
       "3      0.1      0.1      0.1      0.8\n",
       "4      0.3      0.4      0.1      0.2"
      ]
     },
     "execution_count": 10,
     "metadata": {},
     "output_type": "execute_result"
    }
   ],
   "source": [
    "tax_rates = pd.DataFrame([rate_group1, rate_group2, rate_group3, rate_group4], columns=['group_1', 'group_2', 'group_3', 'group_4'], index= ['1','2','3','4'])\n",
    "tax_rates"
   ]
  },
  {
   "cell_type": "code",
   "execution_count": 11,
   "metadata": {},
   "outputs": [
    {
     "data": {
      "text/plain": [
       "100000"
      ]
     },
     "execution_count": 11,
     "metadata": {},
     "output_type": "execute_result"
    }
   ],
   "source": [
    "len(data)"
   ]
  },
  {
   "cell_type": "code",
   "execution_count": null,
   "metadata": {},
   "outputs": [],
   "source": [
    "## Model 1"
   ]
  },
  {
   "cell_type": "code",
   "execution_count": 70,
   "metadata": {
    "id": "-saxhCkecz39"
   },
   "outputs": [],
   "source": [
    "gamma_dict = {}\n",
    "for i, row in data.iterrows():\n",
    "    chi = row['income_before_tax']\n",
    "    for b in [1,2,3,4]:\n",
    "        lower = cutoffs[b-1]\n",
    "        upper = cutoffs[b]\n",
    "        gamma = max(0, min(chi, upper) - lower)\n",
    "        gamma_dict[(i, b)] = gamma\n",
    "\n",
    "group_map = data['tax_group'].to_dict()"
   ]
  },
  {
   "cell_type": "code",
   "execution_count": 47,
   "metadata": {
    "id": "yAOZDLtYmZ4H"
   },
   "outputs": [],
   "source": [
    "model = pyo.ConcreteModel()\n",
    "\n",
    "# Define Sets\n",
    "model.groups = pyo.Set(initialize=sorted(data[\"tax_group\"].unique()))\n",
    "model.brackets = pyo.Set(initialize=[int(b) for b in tax_rates.index],ordered=True)\n",
    "model.taxpayers = pyo.Set(initialize=list(data.index))\n",
    "\n",
    "\n",
    "# Parameters\n",
    "model.chi = pyo.Param(model.taxpayers, initialize=data['income_before_tax'].to_dict(), within=pyo.NonNegativeReals)\n",
    "model.omega = pyo.Param(model.taxpayers, initialize=data['outcome_2'].to_dict(), within=pyo.NonNegativeReals)\n",
    "model.psi_obs = pyo.Param(model.taxpayers, initialize=(data['income_before_tax']-data['outcome_2']).to_dict(), within=pyo.NonNegativeReals)\n",
    "model.varphi = pyo.Param(model.brackets, initialize = {b:cutoffs[b] for b in model.brackets}, within=pyo.NonNegativeReals)\n",
    "model.gamma = pyo.Param(model.taxpayers, model.brackets, initialize=gamma_dict, within=pyo.NonNegativeReals)\n",
    "model.g_i = pyo.Param(model.taxpayers, initialize=group_map, within=model.groups)\n",
    "\n",
    "\n",
    "# Decision Variables\n",
    "model.r = pyo.Var(model.groups, model.brackets, domain=pyo.Reals, bounds=(0,1))\n",
    "model.s = pyo.Var(model.taxpayers, domain=pyo.NonNegativeReals)\n",
    "\n",
    "\n",
    "# Objective\n",
    "@model.Objective(sense=pyo.minimize)\n",
    "def obj(model):\n",
    "    return sum(model.s[i] for i in model.taxpayers)\n",
    "\n",
    "# Constraints:\n",
    "# -s[1] <= predicted_tax[i] - ψ_obs[i]  <=  s[i]\n",
    "@model.Constraint(model.taxpayers)\n",
    "def tax_pressure_lower(m, i):\n",
    "    g = model.g_i[i]\n",
    "    expr = sum(m.r[g, b] * m.gamma[i, b] for b in m.brackets) - m.psi_obs[i]\n",
    "    return expr >= -m.s[i]\n",
    "\n",
    "@model.Constraint(model.taxpayers)\n",
    "def tax_pressure_upper(m, i):\n",
    "    g = model.g_i[i]\n",
    "    expr = sum(m.r[g, b] * m.gamma[i, b] for b in m.brackets) - m.psi_obs[i]\n",
    "    return expr <=  m.s[i]"
   ]
  },
  {
   "cell_type": "code",
   "execution_count": 48,
   "metadata": {
    "colab": {
     "base_uri": "https://localhost:8080/",
     "height": 512
    },
    "id": "a_r1iPRmkIA1",
    "outputId": "63fedcbf-f46a-4d83-b12e-5cbf13d3f5b5"
   },
   "outputs": [
    {
     "name": "stdout",
     "output_type": "stream",
     "text": [
      "Read LP format model from file /var/folders/np/5830zc454wl5c5qp9x0xxypc0000gn/T/tmpv5gvn_95.pyomo.lp\n",
      "Reading time = 0.55 seconds\n",
      "x1: 200000 rows, 100016 columns, 815114 nonzeros\n",
      "Gurobi Optimizer version 12.0.1 build v12.0.1rc0 (mac64[x86] - Darwin 24.3.0 24D81)\n",
      "\n",
      "CPU model: Intel(R) Core(TM) i5-1038NG7 CPU @ 2.00GHz\n",
      "Thread count: 4 physical cores, 8 logical processors, using up to 8 threads\n",
      "\n",
      "Optimize a model with 200000 rows, 100016 columns and 815114 nonzeros\n",
      "Model fingerprint: 0x9fa74751\n",
      "Coefficient statistics:\n",
      "  Matrix range     [1e+00, 7e+04]\n",
      "  Objective range  [1e+00, 1e+00]\n",
      "  Bounds range     [1e+00, 1e+00]\n",
      "  RHS range        [1e+00, 7e+04]\n",
      "Presolve time: 0.85s\n",
      "Presolved: 100016 rows, 200016 columns, 815130 nonzeros\n",
      "\n",
      "Concurrent LP optimizer: dual simplex and barrier\n",
      "Showing barrier log only...\n",
      "\n",
      "Ordering time: 0.10s\n",
      "\n",
      "Barrier statistics:\n",
      " Dense cols : 16\n",
      " AA' NZ     : 7.151e+05\n",
      " Factor NZ  : 9.152e+05 (roughly 130 MB of memory)\n",
      " Factor Ops : 4.486e+06 (less than 1 second per iteration)\n",
      " Threads    : 3\n",
      "\n",
      "                  Objective                Residual\n",
      "Iter       Primal          Dual         Primal    Dual     Compl     Time\n",
      "   0   1.44231535e+11 -3.10576407e+07  3.58e+02 0.00e+00  1.48e+06     1s\n",
      "   1   3.75422111e+10 -4.90802646e+06  3.21e+00 1.26e+02  1.46e+05     1s\n",
      "   2   1.12348778e+09 -4.78467215e+05  0.00e+00 8.51e+00  4.01e+03     2s\n",
      "   3   5.98630421e+07 -1.27639493e+05  0.00e+00 6.30e-03  2.00e+02     2s\n",
      "   4   4.98298472e+05 -8.81444929e+02  0.00e+00 5.03e-06  1.66e+00     2s\n",
      "   5   9.00691325e+04  3.44247393e+03  0.00e+00 4.90e-08  2.89e-01     2s\n",
      "   6   3.63834662e+04  1.08103750e+04  0.00e+00 1.31e-08  8.52e-02     2s\n",
      "   7   2.79678528e+04  2.12584364e+04  0.00e+00 8.32e-09  2.24e-02     2s\n",
      "   8   2.49921322e+04  2.37465454e+04  0.00e+00 1.74e-09  4.15e-03     2s\n",
      "   9   2.45767826e+04  2.43917761e+04  0.00e+00 2.29e-10  6.17e-04     2s\n",
      "  10   2.45402008e+04  2.45142747e+04  0.00e+00 2.23e-09  8.64e-05     2s\n",
      "  11   2.45216265e+04  2.45191139e+04  0.00e+00 7.68e-09  8.37e-06     2s\n",
      "  12   2.45194672e+04  2.45193760e+04  0.00e+00 1.23e-08  3.04e-07     3s\n",
      "  13   2.45194573e+04  2.45194240e+04  6.17e-10 1.95e-09  1.13e-07     3s\n",
      "  14   2.45194555e+04  2.45194526e+04  1.35e-09 1.95e-09  1.09e-08     3s\n",
      "  15   2.45194539e+04  2.45194541e+04  4.04e-09 1.55e-09  1.20e-09     3s\n",
      "\n",
      "Barrier solved model in 15 iterations and 2.85 seconds (1.82 work units)\n",
      "Optimal objective 2.45194539e+04\n",
      "\n",
      "Crossover log...\n",
      "\n",
      "   35319 DPushes remaining with DInf 0.0000000e+00                 3s\n",
      "   25642 DPushes remaining with DInf 0.0000000e+00                 5s\n",
      "   16818 DPushes remaining with DInf 0.0000000e+00                10s\n",
      "    5271 DPushes remaining with DInf 0.0000000e+00                15s\n",
      "       0 DPushes remaining with DInf 0.0000000e+00                16s\n",
      "\n",
      "       0 PPushes remaining with PInf 0.0000000e+00                16s\n",
      "\n",
      "  Push phase complete: Pinf 0.0000000e+00, Dinf 4.5838533e-09     16s\n",
      "\n",
      "Iteration    Objective       Primal Inf.    Dual Inf.      Time\n",
      "   20184    2.4519453e+04   1.713630e-02   0.000000e+00     16s\n",
      "\n",
      "Solved with barrier\n",
      "   20202    2.4519455e+04   0.000000e+00   0.000000e+00     16s\n",
      "\n",
      "Solved in 20202 iterations and 16.11 seconds (24.83 work units)\n",
      "Optimal objective  2.451945461e+04\n"
     ]
    }
   ],
   "source": [
    "solver = pyo.SolverFactory('gurobi')\n",
    "results = solver.solve(model, tee=True)"
   ]
  },
  {
   "cell_type": "code",
   "execution_count": 49,
   "metadata": {},
   "outputs": [
    {
     "name": "stdout",
     "output_type": "stream",
     "text": [
      "Optimal total slack = 24519.45460683398\n"
     ]
    }
   ],
   "source": [
    "print(\"Optimal total slack =\", pyo.value(model.obj))"
   ]
  },
  {
   "cell_type": "code",
   "execution_count": 50,
   "metadata": {},
   "outputs": [],
   "source": [
    "import pandas as pd\n",
    "import matplotlib.pyplot as plt\n",
    "\n",
    "tax_rates_results = []\n",
    "\n",
    "# Loop through groups and brackets to extract the optimized tax rates\n",
    "for g in model.groups:\n",
    "    for b in model.brackets:\n",
    "        tax_rates_results.append({\n",
    "            'Group': g,\n",
    "            'Bracket': b,\n",
    "            'Rate': pyo.value(model.r[g, b])\n",
    "        })\n",
    "\n",
    "tax_rates_df = pd.DataFrame(tax_rates_results)\n"
   ]
  },
  {
   "cell_type": "code",
   "execution_count": 51,
   "metadata": {},
   "outputs": [],
   "source": [
    "# Pivot so that brackets are on x-axis and groups are separate lines\n",
    "pivot_table = tax_rates_df.pivot(index='Bracket', columns='Group', values='Rate')"
   ]
  },
  {
   "cell_type": "code",
   "execution_count": 52,
   "metadata": {},
   "outputs": [
    {
     "name": "stdout",
     "output_type": "stream",
     "text": [
      "Group      1    2    3    4\n",
      "Bracket                    \n",
      "1        0.2  0.3  0.1  0.3\n",
      "2        0.4  0.3  0.1  0.4\n",
      "3        0.4  0.3  0.1  0.1\n",
      "4        0.6  0.5  0.8  0.2\n"
     ]
    }
   ],
   "source": [
    "tax_rate_table = pivot_table .round(3)\n",
    "print(tax_rate_table)"
   ]
  },
  {
   "cell_type": "code",
   "execution_count": null,
   "metadata": {},
   "outputs": [],
   "source": [
    "## Model 3"
   ]
  },
  {
   "cell_type": "code",
   "execution_count": null,
   "metadata": {},
   "outputs": [],
   "source": [
    "# Rescale the data"
   ]
  },
  {
   "cell_type": "code",
   "execution_count": 12,
   "metadata": {},
   "outputs": [],
   "source": [
    "data['income_before_tax'] /= 1000\n",
    "data['outcome_2'] /= 1000\n",
    "data['psi_obs'] = data['income_before_tax'] - data['outcome_2']"
   ]
  },
  {
   "cell_type": "code",
   "execution_count": 13,
   "metadata": {},
   "outputs": [
    {
     "name": "stdout",
     "output_type": "stream",
     "text": [
      "Minimum income: 0.003\n",
      "Maximum income: 149.998\n"
     ]
    }
   ],
   "source": [
    "min_income = data['income_before_tax'].min()\n",
    "max_income = data['income_before_tax'].max()\n",
    "\n",
    "print(f\"Minimum income: {min_income}\")\n",
    "print(f\"Maximum income: {max_income}\")\n"
   ]
  },
  {
   "cell_type": "code",
   "execution_count": 14,
   "metadata": {},
   "outputs": [],
   "source": [
    "cutoffs = list(np.linspace(0, 150, 101))  # use same 100 intervals but scaled"
   ]
  },
  {
   "cell_type": "code",
   "execution_count": 22,
   "metadata": {},
   "outputs": [
    {
     "name": "stdout",
     "output_type": "stream",
     "text": [
      "Income before tax stats:\n",
      "count    100000.000000\n",
      "mean         74.964182\n",
      "std          43.312966\n",
      "min           0.003000\n",
      "25%          37.338750\n",
      "50%          74.982500\n",
      "75%         112.510250\n",
      "max         149.998000\n",
      "Name: income_before_tax, dtype: float64\n",
      "\n",
      "Outcome_2 stats:\n",
      "count    100000.000000\n",
      "mean         51.755077\n",
      "std          28.018637\n",
      "min           0.002000\n",
      "25%          27.767750\n",
      "50%          55.052000\n",
      "75%          73.740250\n",
      "max         118.599000\n",
      "Name: outcome_2, dtype: float64\n",
      "\n",
      "Observed tax pressure (psi_obs):\n",
      "count    100000.000000\n",
      "mean         23.209105\n",
      "std          18.307466\n",
      "min           0.001000\n",
      "25%           7.169750\n",
      "50%          18.920000\n",
      "75%          34.635000\n",
      "max          69.933000\n",
      "dtype: float64\n"
     ]
    }
   ],
   "source": [
    "print(\"Income before tax stats:\")\n",
    "print(data[\"income_before_tax\"].describe())\n",
    "\n",
    "print(\"\\nOutcome_2 stats:\")\n",
    "print(data[\"outcome_2\"].describe())\n",
    "\n",
    "print(\"\\nObserved tax pressure (psi_obs):\")\n",
    "print((data[\"income_before_tax\"] - data[\"outcome_2\"]).describe())\n"
   ]
  },
  {
   "cell_type": "code",
   "execution_count": 15,
   "metadata": {},
   "outputs": [],
   "source": [
    "gamma_dict = {}\n",
    "for i, row in data.iterrows():\n",
    "    chi = row['income_before_tax']\n",
    "    for b in range(1, 101):\n",
    "        lower = cutoffs[b-1]\n",
    "        upper = cutoffs[b]\n",
    "        gamma = max(0, min(chi, upper) - lower)\n",
    "        gamma_dict[(i, b)] = gamma\n",
    "\n",
    "group_map = data['tax_group'].to_dict()"
   ]
  },
  {
   "cell_type": "code",
   "execution_count": 24,
   "metadata": {},
   "outputs": [
    {
     "name": "stdout",
     "output_type": "stream",
     "text": [
      "count    1.000000e+07\n",
      "mean     7.496418e-01\n",
      "std      7.474942e-01\n",
      "min      0.000000e+00\n",
      "25%      0.000000e+00\n",
      "50%      7.160000e-01\n",
      "75%      1.500000e+00\n",
      "max      1.500000e+00\n",
      "dtype: float64\n"
     ]
    }
   ],
   "source": [
    "gamma = max(0, min(chi, upper) - lower)\n",
    "gamma_values = [v for v in gamma_dict.values()]\n",
    "print(pd.Series(gamma_values).describe())\n"
   ]
  },
  {
   "cell_type": "code",
   "execution_count": 27,
   "metadata": {},
   "outputs": [],
   "source": [
    "model = pyo.ConcreteModel()\n",
    "\n",
    "# Define Sets\n",
    "model.groups = pyo.Set(initialize=sorted(data[\"tax_group\"].unique()))\n",
    "model.candidate_brackets = pyo.Set(initialize=range(1, 101), ordered=True)  # candidate brackets\n",
    "model.candidate_brackets_no_last = pyo.Set(initialize=range(1, 100))  # for b=1,...,99 only\n",
    "model.taxpayers = pyo.Set(initialize=list(data.index))\n",
    "\n",
    "# Parameters\n",
    "model.chi = pyo.Param(model.taxpayers, initialize=data['income_before_tax'].to_dict(), within=pyo.NonNegativeReals)\n",
    "model.omega = pyo.Param(model.taxpayers, initialize=data['outcome_2'].to_dict(), within=pyo.NonNegativeReals)\n",
    "model.psi_obs = pyo.Param(model.taxpayers, initialize=(data['income_before_tax']-data['outcome_2']).to_dict(), within=pyo.NonNegativeReals)\n",
    "model.varphi = pyo.Param(model.candidate_brackets, initialize={b: cutoffs[b] for b in model.candidate_brackets}, within=pyo.NonNegativeReals)\n",
    "model.gamma = pyo.Param(model.taxpayers, model.candidate_brackets, initialize=gamma_dict, within=pyo.NonNegativeReals)\n",
    "model.g_i = pyo.Param(model.taxpayers, initialize=group_map, within=model.groups)\n",
    "\n",
    "# Decision Variables\n",
    "model.r = pyo.Var(model.groups, model.candidate_brackets, domain=pyo.Reals, bounds=(0,1))\n",
    "model.d = pyo.Var(model.candidate_brackets_no_last, domain=pyo.NonNegativeReals)\n",
    "model.w = pyo.Var(model.candidate_brackets_no_last, domain=pyo.Binary)\n",
    "model.s = pyo.Var(model.taxpayers, domain=pyo.NonNegativeReals)\n",
    "\n",
    "# Objective\n",
    "@model.Objective(sense=pyo.minimize)\n",
    "def obj(m):\n",
    "    return sum(m.s[i] for i in m.taxpayers)\n",
    "\n",
    "# Constraints\n",
    "\n",
    "# 1. Tax pressure constraints\n",
    "@model.Constraint(model.taxpayers)\n",
    "def tax_pressure_lower(m, i):\n",
    "    g = m.g_i[i]\n",
    "    expr = sum(m.r[g, b] * m.gamma[i, b] for b in m.candidate_brackets)\n",
    "    return expr - m.psi_obs[i] >= -m.s[i]\n",
    "\n",
    "@model.Constraint(model.taxpayers)\n",
    "def tax_pressure_upper(m, i):\n",
    "    g = m.g_i[i]\n",
    "    expr = sum(m.r[g, b] * m.gamma[i, b] for b in m.candidate_brackets)\n",
    "    return expr - m.psi_obs[i] <= m.s[i]\n",
    "\n",
    "# 2. Rate increment rule\n",
    "@model.Constraint(model.groups, model.candidate_brackets_no_last)\n",
    "def rate_increment(m, g, b):\n",
    "    return m.r[g, b+1] == m.r[g, b] + m.d[b]\n",
    "\n",
    "# 3. Increment activation\n",
    "@model.Constraint(model.candidate_brackets_no_last)\n",
    "def increment_activation(m, b):\n",
    "    return m.d[b] <= m.w[b]\n",
    "\n",
    "# 4. Total number of activated brackets\n",
    "@model.Constraint()\n",
    "def total_activated_brackets(m):\n",
    "    return sum(m.w[b] for b in m.candidate_brackets_no_last) <= 4\n"
   ]
  },
  {
   "cell_type": "code",
   "execution_count": 28,
   "metadata": {},
   "outputs": [
    {
     "name": "stdout",
     "output_type": "stream",
     "text": [
      "Read LP format model from file /var/folders/np/5830zc454wl5c5qp9x0xxypc0000gn/T/tmphj_b_p5x.pyomo.lp\n",
      "Reading time = 4.17 seconds\n",
      "x1: 200496 rows, 100598 columns, 10296805 nonzeros\n",
      "Gurobi Optimizer version 12.0.1 build v12.0.1rc0 (mac64[x86] - Darwin 24.3.0 24D81)\n",
      "\n",
      "CPU model: Intel(R) Core(TM) i5-1038NG7 CPU @ 2.00GHz\n",
      "Thread count: 4 physical cores, 8 logical processors, using up to 8 threads\n",
      "\n",
      "Optimize a model with 200496 rows, 100598 columns and 10296805 nonzeros\n",
      "Model fingerprint: 0x92753164\n",
      "Variable types: 100499 continuous, 99 integer (99 binary)\n",
      "Coefficient statistics:\n",
      "  Matrix range     [1e-03, 2e+00]\n",
      "  Objective range  [1e+00, 1e+00]\n",
      "  Bounds range     [1e+00, 1e+00]\n",
      "  RHS range        [1e-03, 7e+01]\n",
      "Found heuristic solution: objective 2320910.4770\n",
      "Found heuristic solution: objective 2320910.4768\n",
      "Presolve removed 0 rows and 0 columns (presolve time = 7s)...\n",
      "Presolve removed 0 rows and 0 columns (presolve time = 10s)...\n",
      "Presolve removed 0 rows and 0 columns (presolve time = 16s)...\n",
      "Presolve removed 0 rows and 0 columns (presolve time = 20s)...\n",
      "Presolve removed 15640 rows and 7820 columns (presolve time = 90s)...\n",
      "Presolve removed 15640 rows and 7820 columns (presolve time = 95s)...\n",
      "Presolve removed 15640 rows and 7820 columns (presolve time = 100s)...\n",
      "Presolve removed 15368 rows and 7548 columns\n",
      "Presolve time: 104.11s\n",
      "Presolved: 185128 rows, 93050 columns, 1430409 nonzeros\n",
      "Variable types: 92951 continuous, 99 integer (99 binary)\n",
      "\n",
      "Deterministic concurrent LP optimizer: primal simplex, dual simplex, and barrier\n",
      "Showing barrier log only...\n",
      "\n",
      "Root barrier log...\n",
      "\n",
      "Ordering time: 0.23s\n",
      "\n",
      "Barrier statistics:\n",
      " Dense cols : 672\n",
      " AA' NZ     : 1.339e+06\n",
      " Factor NZ  : 1.625e+06 (roughly 130 MB of memory)\n",
      " Factor Ops : 5.011e+07 (less than 1 second per iteration)\n",
      " Threads    : 2\n",
      "\n",
      "                  Objective                Residual\n",
      "Iter       Primal          Dual         Primal    Dual     Compl     Time\n",
      "   0   5.10314715e+06 -1.37509605e+07  5.15e+02 1.19e-15  1.89e+02   108s\n",
      "   1   2.93080325e+06 -6.76670688e+06  5.85e+01 2.09e+01  3.07e+01   108s\n",
      "   2   1.43846536e+06 -3.56784979e+05  7.37e+00 6.74e+00  4.93e+00   109s\n",
      "   3   4.81822351e+05  1.00163373e+05  5.14e-01 5.94e-01  1.03e+00   109s\n",
      "   4   3.47849101e+05  2.10356792e+05  1.82e-01 2.79e-01  3.72e-01   109s\n",
      "   5   3.22011609e+05  2.54166771e+05  1.12e-01 9.70e-02  1.83e-01   109s\n",
      "   6   3.08713019e+05  2.67756138e+05  7.43e-02 4.88e-02  1.11e-01   109s\n",
      "   7   3.03690823e+05  2.76600535e+05  5.88e-02 2.25e-02  7.33e-02   109s\n",
      "   8   2.98554124e+05  2.82855320e+05  4.20e-02 3.82e-02  4.25e-02   110s\n",
      "   9   2.94399009e+05  2.84188136e+05  2.76e-02 3.57e-02  2.76e-02   110s\n",
      "  10   2.93167435e+05  2.84792262e+05  2.33e-02 2.62e-02  2.27e-02   110s\n",
      "  11   2.92910013e+05  2.84974966e+05  2.24e-02 2.31e-02  2.15e-02   110s\n",
      "  12   2.90962327e+05  2.85323474e+05  1.56e-02 1.62e-02  1.53e-02   110s\n",
      "  13   2.88692920e+05  2.85916109e+05  8.31e-03 6.51e-03  7.53e-03   110s\n",
      "  14   2.87615692e+05  2.86171509e+05  3.93e-03 4.75e-03  3.92e-03   111s\n",
      "  15   2.87351120e+05  2.86405271e+05  2.88e-03 1.97e-03  2.57e-03   111s\n",
      "  16   2.86814495e+05  2.86545553e+05  7.87e-04 4.78e-04  7.30e-04   111s\n",
      "  17   2.86681127e+05  2.86589605e+05  2.73e-04 6.97e-05  2.48e-04   111s\n",
      "  18   2.86667653e+05  2.86593895e+05  2.28e-04 5.20e-05  2.03e-04   112s\n",
      "  19   2.86621751e+05  2.86603857e+05  5.57e-05 8.64e-06  5.29e-05   112s\n",
      "  20   2.86615231e+05  2.86605174e+05  3.10e-05 7.65e-06  3.01e-05   112s\n",
      "  21   2.86612612e+05  2.86605745e+05  2.12e-05 1.14e-05  2.08e-05   112s\n",
      "  22   2.86610706e+05  2.86605900e+05  1.41e-05 1.25e-05  1.47e-05   112s\n",
      "  23   2.86609538e+05  2.86605978e+05  9.15e-06 1.16e-05  1.08e-05   113s\n",
      "  24   2.86608416e+05  2.86606178e+05  4.93e-06 9.27e-06  6.66e-06   113s\n",
      "  25   2.86607782e+05  2.86606364e+05  2.34e-06 7.25e-06  4.11e-06   113s\n",
      "  26   2.86607415e+05  2.86606499e+05  9.40e-07 5.80e-06  2.58e-06   113s\n",
      "  27   2.86607270e+05  2.86606538e+05  3.83e-07 5.41e-06  2.01e-06   114s\n",
      "  28   2.86607216e+05  2.86606799e+05  2.47e-07 2.76e-06  1.15e-06   114s\n",
      "  29   2.86607205e+05  2.86606813e+05  2.28e-07 2.62e-06  1.08e-06   114s\n",
      "  30   2.86607176e+05  2.86606832e+05  1.54e-07 2.45e-06  9.43e-07   114s\n",
      "  31   2.86607146e+05  2.86606852e+05  8.03e-08 2.26e-06  7.99e-07   114s\n",
      "  32   2.86607127e+05  2.86606949e+05  3.54e-08 1.40e-06  4.86e-07   115s\n",
      "  33   2.86607124e+05  2.86606960e+05  3.10e-08 1.30e-06  4.47e-07   115s\n",
      "  34   2.86607122e+05  2.86606969e+05  2.86e-08 1.22e-06  4.17e-07   115s\n",
      "  35   2.86607120e+05  2.86606986e+05  2.57e-08 1.07e-06  3.66e-07   115s\n",
      "  36   2.86607117e+05  2.86606989e+05  2.04e-08 1.04e-06  3.50e-07   116s\n",
      "  37   2.86607113e+05  2.86607002e+05  1.14e-08 9.17e-07  3.00e-07   116s\n",
      "  38   2.86607111e+05  2.86607016e+05  8.67e-09 7.97e-07  2.58e-07   116s\n",
      "  39   2.86607109e+05  2.86607021e+05  6.42e-09 7.48e-07  2.39e-07   116s\n",
      "  40   2.86607109e+05  2.86607025e+05  5.16e-09 7.15e-07  2.27e-07   116s\n",
      "  41   2.86607107e+05  2.86607031e+05  3.12e-09 6.54e-07  2.07e-07   117s\n",
      "  42   2.86607106e+05  2.86607039e+05  1.46e-09 5.76e-07  1.82e-07   117s\n",
      "  43   2.86607106e+05  2.86607045e+05  1.33e-09 5.20e-07  1.65e-07   117s\n",
      "  44   2.86607105e+05  2.86607049e+05  7.35e-10 4.81e-07  1.51e-07   117s\n",
      "  45   2.86607104e+05  2.86607057e+05  9.20e-11 4.12e-07  1.27e-07   118s\n",
      "  46   2.86607104e+05  2.86607060e+05  7.47e-11 3.85e-07  1.19e-07   118s\n",
      "  47   2.86607104e+05  2.86607063e+05  6.65e-11 3.63e-07  1.12e-07   118s\n",
      "  48   2.86607104e+05  2.86607082e+05  5.09e-11 1.75e-07  5.90e-08   118s\n",
      "  49   2.86607104e+05  2.86607083e+05  6.48e-12 1.66e-07  5.61e-08   119s\n",
      "  50   2.86607104e+05  2.86607087e+05  1.39e-11 1.39e-07  4.65e-08   119s\n",
      "  51   2.86607104e+05  2.86607090e+05  9.75e-12 1.11e-07  3.79e-08   119s\n",
      "  52   2.86607104e+05  2.86607093e+05  7.16e-12 9.01e-08  3.08e-08   119s\n",
      "  53   2.86607104e+05  2.86607096e+05  5.00e-12 6.25e-08  2.13e-08   119s\n",
      "  54   2.86607104e+05  2.86607097e+05  3.51e-12 5.25e-08  1.80e-08   120s\n",
      "  55   2.86607104e+05  2.86607099e+05  2.40e-12 3.42e-08  1.20e-08   120s\n",
      "  56   2.86607104e+05  2.86607103e+05  7.72e-11 2.99e-09  1.05e-09   120s\n",
      "\n",
      "Barrier solved model in 56 iterations and 120.06 seconds (26.70 work units)\n",
      "Optimal objective 2.86607104e+05\n",
      "\n",
      "\n",
      "Root crossover log...\n",
      "\n",
      "    4443 DPushes remaining with DInf 0.0000000e+00               120s\n",
      "       0 DPushes remaining with DInf 0.0000000e+00               122s\n",
      "\n",
      "       0 PPushes remaining with PInf 5.5390399e-06               122s\n",
      "\n",
      "  Push phase complete: Pinf 5.5390399e-06, Dinf 8.0484028e-09    122s\n",
      "\n",
      "\n",
      "Root simplex log...\n",
      "\n",
      "Iteration    Objective       Primal Inf.    Dual Inf.      Time\n",
      "    3482    2.8660710e+05   5.539040e-06   0.000000e+00    122s\n",
      "    3486    2.8660710e+05   0.000000e+00   0.000000e+00    123s\n",
      "    3486    2.8660710e+05   0.000000e+00   0.000000e+00    123s\n",
      "Concurrent spin time: 0.00s\n",
      "\n",
      "Solved with barrier\n",
      "\n",
      "Root relaxation: objective 2.866071e+05, 3486 iterations, 16.85 seconds (9.95 work units)\n",
      "\n",
      "    Nodes    |    Current Node    |     Objective Bounds      |     Work\n",
      " Expl Unexpl |  Obj  Depth IntInf | Incumbent    BestBd   Gap | It/Node Time\n",
      "\n",
      "     0     0 286607.104    0    2 2320910.48 286607.104  87.7%     -  123s\n",
      "H    0     0                    286607.94703 286607.104  0.00%     -  126s\n",
      "\n",
      "Explored 1 nodes (3486 simplex iterations) in 126.82 seconds (35.42 work units)\n",
      "Thread count was 8 (of 8 available processors)\n",
      "\n",
      "Solution count 3: 286608 286608 2.32091e+06 \n",
      "\n",
      "Optimal solution found (tolerance 1.00e-04)\n",
      "Warning: max constraint violation (6.0085e-06) exceeds tolerance\n",
      "Best objective 2.866079469729e+05, best bound 2.866071036800e+05, gap 0.0003%\n"
     ]
    }
   ],
   "source": [
    "solver = pyo.SolverFactory('gurobi')\n",
    "results = solver.solve(model, tee=True)"
   ]
  },
  {
   "cell_type": "code",
   "execution_count": 29,
   "metadata": {},
   "outputs": [
    {
     "name": "stdout",
     "output_type": "stream",
     "text": [
      "Optimal objective value (sum of slack): 286607.95\n"
     ]
    }
   ],
   "source": [
    "# Objective value\n",
    "optimal_obj = pyo.value(model.obj)\n",
    "print(f\"Optimal objective value (sum of slack): {optimal_obj:.2f}\")\n"
   ]
  },
  {
   "cell_type": "code",
   "execution_count": 30,
   "metadata": {},
   "outputs": [
    {
     "name": "stdout",
     "output_type": "stream",
     "text": [
      "Selected bracket breakpoints (indices): [15, 18, 56]\n",
      "Number of activated brackets: 3\n"
     ]
    }
   ],
   "source": [
    "selected_brackets = [b for b in model.candidate_brackets_no_last if pyo.value(model.w[b]) > 0.5]\n",
    "print(f\"Selected bracket breakpoints (indices): {selected_brackets}\")\n",
    "print(f\"Number of activated brackets: {len(selected_brackets)}\")\n"
   ]
  },
  {
   "cell_type": "code",
   "execution_count": 31,
   "metadata": {},
   "outputs": [
    {
     "name": "stdout",
     "output_type": "stream",
     "text": [
      "Selected cutoff incomes: [np.float64(22.5), np.float64(27.0), np.float64(84.0)]\n"
     ]
    }
   ],
   "source": [
    "selected_cutoffs = [pyo.value(model.varphi[b]) for b in selected_brackets]\n",
    "print(f\"Selected cutoff incomes: {selected_cutoffs}\")\n"
   ]
  },
  {
   "cell_type": "code",
   "execution_count": 32,
   "metadata": {},
   "outputs": [
    {
     "name": "stdout",
     "output_type": "stream",
     "text": [
      "       Bracket 15  Bracket 18  Bracket 56\n",
      "Group                                    \n",
      "1          0.2077      0.2587      0.4298\n",
      "2          0.1544      0.2054      0.3765\n",
      "3          0.1001      0.1511      0.3221\n",
      "4          0.0100      0.0610      0.2321\n"
     ]
    }
   ],
   "source": [
    "selected_brackets = [b for b in model.candidate_brackets_no_last if pyo.value(model.w[b]) > 0.5]\n",
    "selected_brackets = sorted(selected_brackets)\n",
    "\n",
    "# Extract tax rates for each group at those brackets\n",
    "selected_rates_by_group = {}\n",
    "\n",
    "for g in model.groups:\n",
    "    selected_rates_by_group[g] = {b: round(pyo.value(model.r[g, b]), 4) for b in selected_brackets}\n",
    "\n",
    "\n",
    "df_rates = pd.DataFrame(selected_rates_by_group).T  # Groups as rows\n",
    "df_rates.columns = [f\"Bracket {b}\" for b in df_rates.columns]\n",
    "df_rates.index.name = \"Group\"\n",
    "\n",
    "print(df_rates) \n"
   ]
  },
  {
   "cell_type": "code",
   "execution_count": null,
   "metadata": {},
   "outputs": [],
   "source": []
  }
 ],
 "metadata": {
  "colab": {
   "provenance": []
  },
  "kernelspec": {
   "display_name": "Python 3 (ipykernel)",
   "language": "python",
   "name": "python3"
  },
  "language_info": {
   "codemirror_mode": {
    "name": "ipython",
    "version": 3
   },
   "file_extension": ".py",
   "mimetype": "text/x-python",
   "name": "python",
   "nbconvert_exporter": "python",
   "pygments_lexer": "ipython3",
   "version": "3.12.8"
  }
 },
 "nbformat": 4,
 "nbformat_minor": 4
}
